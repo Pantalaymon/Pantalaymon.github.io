{
 "cells": [
  {
   "cell_type": "markdown",
   "metadata": {},
   "source": [
    "# Démonstration de coreferee sur du français"
   ]
  },
  {
   "cell_type": "markdown",
   "metadata": {},
   "source": [
    "## Charger un modèle\n",
    "Example avec le modèle large fr_core_news_lg"
   ]
  },
  {
   "cell_type": "code",
   "execution_count": 1,
   "metadata": {},
   "outputs": [],
   "source": [
    "import spacy, coreferee"
   ]
  },
  {
   "cell_type": "code",
   "execution_count": 2,
   "metadata": {},
   "outputs": [
    {
     "data": {
      "text/plain": [
       "['tok2vec',\n",
       " 'morphologizer',\n",
       " 'parser',\n",
       " 'attribute_ruler',\n",
       " 'lemmatizer',\n",
       " 'ner',\n",
       " 'coreferee']"
      ]
     },
     "execution_count": 2,
     "metadata": {},
     "output_type": "execute_result"
    }
   ],
   "source": [
    "nlp = spacy.load(\"fr_core_news_lg\")\n",
    "nlp.add_pipe(\"coreferee\")\n",
    "nlp.pipe_names"
   ]
  },
  {
   "cell_type": "markdown",
   "metadata": {},
   "source": [
    "## Identifier les chaines de coréférence"
   ]
  },
  {
   "cell_type": "code",
   "execution_count": 3,
   "metadata": {},
   "outputs": [
    {
     "data": {
      "text/plain": [
       "Même si elle était très occupée par son travail, Julie en avait marre. Alors, elle et son mari décidèrent qu'ils avaient besoin de vacances. Ils allèrent en Espagne car ils adoraient le pays."
      ]
     },
     "execution_count": 3,
     "metadata": {},
     "output_type": "execute_result"
    }
   ],
   "source": [
    "text = \"Même si elle était très occupée par son travail, Julie en avait marre. Alors, elle et son mari décidèrent qu'ils avaient besoin de vacances. Ils allèrent en Espagne car ils adoraient le pays.\"\n",
    "doc = nlp(text)\n",
    "doc\n"
   ]
  },
  {
   "cell_type": "markdown",
   "metadata": {},
   "source": [
    "### Afficher les chaines"
   ]
  },
  {
   "cell_type": "code",
   "execution_count": 4,
   "metadata": {},
   "outputs": [
    {
     "name": "stdout",
     "output_type": "stream",
     "text": [
      "0: elle(2), son(7), Julie(10), elle(17), son(19)\n",
      "1: travail(8), en(11)\n",
      "2: [elle(17); mari(20)], ils(23), Ils(29), ils(34)\n",
      "3: Espagne(32), pays(37)\n"
     ]
    }
   ],
   "source": [
    "doc._.coref_chains.print()"
   ]
  },
  {
   "cell_type": "markdown",
   "metadata": {},
   "source": [
    "### Parcourir les chaines"
   ]
  },
  {
   "cell_type": "code",
   "execution_count": 5,
   "metadata": {},
   "outputs": [
    {
     "name": "stdout",
     "output_type": "stream",
     "text": [
      "La chaine numéro 0 contient les mentions suivantes :\n",
      "\t elle(2) composée des tokens numéro : [2]\n",
      "\t son(7) composée des tokens numéro : [7]\n",
      "\t Julie(10) composée des tokens numéro : [10]\n",
      "\t elle(17) composée des tokens numéro : [17]\n",
      "\t son(19) composée des tokens numéro : [19]\n",
      "La chaine numéro 1 contient les mentions suivantes :\n",
      "\t travail(8) composée des tokens numéro : [8]\n",
      "\t en(11) composée des tokens numéro : [11]\n",
      "La chaine numéro 2 contient les mentions suivantes :\n",
      "\t [elle(17); mari(20)] composée des tokens numéro : [17, 20]\n",
      "\t ils(23) composée des tokens numéro : [23]\n",
      "\t Ils(29) composée des tokens numéro : [29]\n",
      "\t ils(34) composée des tokens numéro : [34]\n",
      "La chaine numéro 3 contient les mentions suivantes :\n",
      "\t Espagne(32) composée des tokens numéro : [32]\n",
      "\t pays(37) composée des tokens numéro : [37]\n"
     ]
    }
   ],
   "source": [
    "for chain in doc._.coref_chains:\n",
    "    print(\"La chaine numéro\", chain.index, \"contient les mentions suivantes :\")\n",
    "    for mention in chain:\n",
    "        print(\"\\t\", mention.pretty_representation, \"composée des tokens numéro :\", mention.token_indexes)"
   ]
  },
  {
   "cell_type": "markdown",
   "metadata": {},
   "source": [
    "### Résoudre la coréférence pour un token donné (par exemple un pronom):\n",
    "Obtenir la mention la plus représentative de ce token"
   ]
  },
  {
   "cell_type": "code",
   "execution_count": 5,
   "metadata": {},
   "outputs": [
    {
     "name": "stdout",
     "output_type": "stream",
     "text": [
      "Le pronom « elle » désigne [Julie]\n"
     ]
    }
   ],
   "source": [
    "print(\"Le pronom «\", doc[2], \"» désigne\", doc._.coref_chains.resolve(doc[2]))"
   ]
  },
  {
   "cell_type": "markdown",
   "metadata": {},
   "source": [
    "## Construire les mentions complètes\n",
    "Obtenir les syntagmes (nominaux ou pronominaux) entiers à partir des têtes"
   ]
  },
  {
   "cell_type": "code",
   "execution_count": 7,
   "metadata": {},
   "outputs": [],
   "source": [
    "from build_mentions import build_mention, create_mentions"
   ]
  },
  {
   "cell_type": "code",
   "execution_count": 8,
   "metadata": {},
   "outputs": [
    {
     "name": "stdout",
     "output_type": "stream",
     "text": [
      "0: enfants(1), leurs(8)\n"
     ]
    }
   ],
   "source": [
    "doc = nlp(\"Les enfants de l'école primaire rentrent chez leurs parents\")\n",
    "doc._.coref_chains.print()"
   ]
  },
  {
   "cell_type": "markdown",
   "metadata": {},
   "source": [
    "### Retrouver le syntagme d'une mention"
   ]
  },
  {
   "cell_type": "code",
   "execution_count": 9,
   "metadata": {},
   "outputs": [
    {
     "name": "stdout",
     "output_type": "stream",
     "text": [
      "Le syntagme de la tête « enfants » est « Les enfants de l'école primaire »\n"
     ]
    }
   ],
   "source": [
    "print(\"Le syntagme de la tête «\", doc[1], \"» est «\", build_mention([doc[1]], nlp), \"»\")"
   ]
  },
  {
   "cell_type": "markdown",
   "metadata": {},
   "source": [
    "### Obtenir les syntagmes et leur numéro de chaine pour tout le document\n",
    "Même les singletons ! "
   ]
  },
  {
   "cell_type": "code",
   "execution_count": 10,
   "metadata": {},
   "outputs": [
    {
     "data": {
      "text/plain": [
       "{Les enfants de l'école primaire: 0,\n",
       " leurs: 0,\n",
       " l'école primaire: 1,\n",
       " leurs parents: 2}"
      ]
     },
     "execution_count": 10,
     "metadata": {},
     "output_type": "execute_result"
    }
   ],
   "source": [
    "new_mentions = create_mentions(doc, nlp, add_singletons=True)\n",
    "new_mentions"
   ]
  },
  {
   "cell_type": "code",
   "execution_count": 11,
   "metadata": {},
   "outputs": [
    {
     "data": {
      "text/plain": [
       "{0: [Les enfants de l'école primaire, leurs],\n",
       " 1: [l'école primaire],\n",
       " 2: [leurs parents]}"
      ]
     },
     "execution_count": 11,
     "metadata": {},
     "output_type": "execute_result"
    }
   ],
   "source": [
    "from build_mentions import make_new_chains\n",
    "\n",
    "make_new_chains(new_mentions)\n"
   ]
  },
  {
   "cell_type": "markdown",
   "metadata": {},
   "source": [
    "## Exemples réels"
   ]
  },
  {
   "cell_type": "markdown",
   "metadata": {},
   "source": [
    "### Article de presse\n",
    "Source : https://www.lemonde.fr/election-presidentielle-2022/article/2022/03/04/eric-zemmour-condamne-pour-la-quatrieme-fois_6116185_6059010.html"
   ]
  },
  {
   "cell_type": "code",
   "execution_count": 12,
   "metadata": {},
   "outputs": [
    {
     "data": {
      "text/plain": [
       "Eric Zemmour condamné pour la quatrième fois\n",
       "Le candidat d’extrême droite a été condamné à une amende pour « contrefaçon de droit d’auteur » par le tribunal de Paris. Il avait utilisé des extraits vidéo sans autorisation dans son clip de déclaration de candidature.\n",
       "\n",
       "Eric Zemmour a été de nouveau condamné, vendredi 4 mars, mais cette fois pour « contrefaçon de droit d’auteur », après la diffusion de son clip de candidature, le 30 novembre 2021, où il avait utilisé nombre d’extraits de films sans aucune sorte d’autorisation.\n",
       "\n",
       "Le candidat d’extrême droite à l’élection présidentielle, son parti Reconquête ! et François Miramont, alors responsable de l’association Les Amis de Zemmour, se voient condamnés à verser 5 000 euros à chacune des onze parties civiles et 10 000 euros de frais de justice, soit un total de 165 000 euros. Ils disposent d’une semaine pour couper les séquences litigieuses, sous peine d’une astreinte de 1 500 euros par jour de retard – ce qui revient à supprimer la fameuse vidéo.\n",
       "\n",
       "« Il n’est plus temps de réformer la France, mais de la sauver. C’est pourquoi j’ai décidé de me présenter à l’élection présidentielle », avait déclaré l’ancien chroniqueur du Figaro dans une vidéo crépusculaire de dix minutes. Il lisait un texte, dans une sombre bibliothèque et devant un micro très Radio-Londres, entrecoupé d’images d’archives et de sa campagne, sur fond du 2e mouvement de la 7e Symphonie de Beethoven."
      ]
     },
     "execution_count": 12,
     "metadata": {},
     "output_type": "execute_result"
    }
   ],
   "source": [
    "doc = nlp('''Eric Zemmour condamné pour la quatrième fois\n",
    "Le candidat d’extrême droite a été condamné à une amende pour « contrefaçon de droit d’auteur » par le tribunal de Paris. Il avait utilisé des extraits vidéo sans autorisation dans son clip de déclaration de candidature.\n",
    "\n",
    "Eric Zemmour a été de nouveau condamné, vendredi 4 mars, mais cette fois pour « contrefaçon de droit d’auteur », après la diffusion de son clip de candidature, le 30 novembre 2021, où il avait utilisé nombre d’extraits de films sans aucune sorte d’autorisation.\n",
    "\n",
    "Le candidat d’extrême droite à l’élection présidentielle, son parti Reconquête ! et François Miramont, alors responsable de l’association Les Amis de Zemmour, se voient condamnés à verser 5 000 euros à chacune des onze parties civiles et 10 000 euros de frais de justice, soit un total de 165 000 euros. Ils disposent d’une semaine pour couper les séquences litigieuses, sous peine d’une astreinte de 1 500 euros par jour de retard – ce qui revient à supprimer la fameuse vidéo.\n",
    "\n",
    "« Il n’est plus temps de réformer la France, mais de la sauver. C’est pourquoi j’ai décidé de me présenter à l’élection présidentielle », avait déclaré l’ancien chroniqueur du Figaro dans une vidéo crépusculaire de dix minutes. Il lisait un texte, dans une sombre bibliothèque et devant un micro très Radio-Londres, entrecoupé d’images d’archives et de sa campagne, sur fond du 2e mouvement de la 7e Symphonie de Beethoven.\n",
    "''')\n",
    "doc"
   ]
  },
  {
   "cell_type": "code",
   "execution_count": 13,
   "metadata": {},
   "outputs": [
    {
     "data": {
      "text/plain": [
       "{0: [Eric Zemmour condamné pour la quatrième fois,\n",
       "  Le candidat d’extrême droite,\n",
       "  Il,\n",
       "  son,\n",
       "  Eric Zemmour,\n",
       "  son,\n",
       "  il,\n",
       "  Le candidat d’extrême droite à l’élection présidentielle, son parti Reconquête ! et François Miramont, alors responsable de l’association,\n",
       "  son,\n",
       "  Zemmour],\n",
       " 1: [la quatrième fois, cette fois],\n",
       " 2: [François Miramont, responsable de l’association],\n",
       " 3: [Les Amis de Zemmour, Ils],\n",
       " 4: [la France, la],\n",
       " 5: [l’ancien chroniqueur du Figaro, Il, sa]}"
      ]
     },
     "execution_count": 13,
     "metadata": {},
     "output_type": "execute_result"
    }
   ],
   "source": [
    "new_mentions = create_mentions(doc, nlp)\n",
    "make_new_chains(new_mentions)"
   ]
  },
  {
   "cell_type": "markdown",
   "metadata": {},
   "source": [
    "### Avis d'acheteur"
   ]
  },
  {
   "cell_type": "code",
   "execution_count": 14,
   "metadata": {},
   "outputs": [
    {
     "data": {
      "text/plain": [
       "👀 Acheté pour ma nièce pour son anniversaire. Sa mère et moi ne voulions pas que ce soit son premier téléphone coûté très cher. Alors après quelques recherches, j'ai sélectionné celui-ci.\n",
       "\n",
       "📳 Avant de le lui offrir, j'ai fait un test et j'ai essayé d'évaluer le potentiel, et comment j'ai voulu m'adapter aux besoins de notre jeune ado j'ai immédiatement remarqué la haute qualité des images.\n",
       "📷 Les 4 caméras permettent de combler les écarts qualitatifs; les photos présentées dans cet avis ont été prises au cours de la journée ( matin par temps gris ) et donc je ne peux rien dire sur les photos de nuit; néanmoins l'autofocus du smartphone a beaucoup de difficulté à esquisser un objectif correct à certaines distances; la caméra réagit bien même dans des conditions de faible luminosité ( à l'ombre ) tout en gardant un excellent niveau de détail. Bonne sélection exacte du foyer en gros plan; couleurs parfaites.\n",
       "\n",
       "📌 En ce qui a trait aux performances du smartphone; les 4 Go de RAM permettent une navigation en douceur et un jeu défilant supporté par un processeur Unisoc T310.\n",
       "\n",
       "👍Un écran plein Waterdrop 6.517\" HD peut contenir la taille du smartphone lui-même; avec également comme sécurité, vous pouvez définir les empreintes digitales, je trouve que pour le prix de vente par rapport à la qualité de l'appareil il a un pourcentage très bénéfique, parfait pour ma nièce. Elle était enchantée de son cadeau pour son âge.\n",
       "Moi à mon époque, j'utilisais déjà une ficelle et 2 pots de yogourt pour communiquer entre amis.\n",
       "\n",
       "J'espère que mes observations vous seront utiles et vous aideront à faire un choix positif ou négatif, mais je suis toujours disponible pour répondre à vos questions.\n",
       "⬇⬇️ Merci de cliquer sur le bouton Vote utile"
      ]
     },
     "execution_count": 14,
     "metadata": {},
     "output_type": "execute_result"
    }
   ],
   "source": [
    "\n",
    "doc = nlp('''👀 Acheté pour ma nièce pour son anniversaire. Sa mère et moi ne voulions pas que ce soit son premier téléphone coûté très cher. Alors après quelques recherches, j'ai sélectionné celui-ci.\n",
    "\n",
    "📳 Avant de le lui offrir, j'ai fait un test et j'ai essayé d'évaluer le potentiel, et comment j'ai voulu m'adapter aux besoins de notre jeune ado j'ai immédiatement remarqué la haute qualité des images.\n",
    "📷 Les 4 caméras permettent de combler les écarts qualitatifs; les photos présentées dans cet avis ont été prises au cours de la journée ( matin par temps gris ) et donc je ne peux rien dire sur les photos de nuit; néanmoins l'autofocus du smartphone a beaucoup de difficulté à esquisser un objectif correct à certaines distances; la caméra réagit bien même dans des conditions de faible luminosité ( à l'ombre ) tout en gardant un excellent niveau de détail. Bonne sélection exacte du foyer en gros plan; couleurs parfaites.\n",
    "\n",
    "📌 En ce qui a trait aux performances du smartphone; les 4 Go de RAM permettent une navigation en douceur et un jeu défilant supporté par un processeur Unisoc T310.\n",
    "\n",
    "👍Un écran plein Waterdrop 6.517\" HD peut contenir la taille du smartphone lui-même; avec également comme sécurité, vous pouvez définir les empreintes digitales, je trouve que pour le prix de vente par rapport à la qualité de l'appareil il a un pourcentage très bénéfique, parfait pour ma nièce. Elle était enchantée de son cadeau pour son âge.\n",
    "Moi à mon époque, j'utilisais déjà une ficelle et 2 pots de yogourt pour communiquer entre amis.\n",
    "\n",
    "J'espère que mes observations vous seront utiles et vous aideront à faire un choix positif ou négatif, mais je suis toujours disponible pour répondre à vos questions.\n",
    "⬇⬇️ Merci de cliquer sur le bouton Vote utile''')\n",
    "doc"
   ]
  },
  {
   "cell_type": "code",
   "execution_count": 15,
   "metadata": {},
   "outputs": [
    {
     "data": {
      "text/plain": [
       "{0: [ma nièce pour son anniversaire, son, Sa, son],\n",
       " 1: [son premier téléphone, celui-ci, le lui],\n",
       " 2: [la journée, matin],\n",
       " 3: [des conditions de faible luminosité ( à l'ombre, en],\n",
       " 4: [lui-même, il],\n",
       " 5: [ma nièce, Elle, son, son]}"
      ]
     },
     "execution_count": 15,
     "metadata": {},
     "output_type": "execute_result"
    }
   ],
   "source": [
    "new_mentions = create_mentions(doc, nlp)\n",
    "new_chains = make_new_chains(new_mentions)\n",
    "new_chains"
   ]
  },
  {
   "cell_type": "markdown",
   "metadata": {},
   "source": [
    "### Tweets"
   ]
  },
  {
   "cell_type": "code",
   "execution_count": 67,
   "metadata": {},
   "outputs": [
    {
     "name": "stdout",
     "output_type": "stream",
     "text": [
      "Solaire et rayonnant, Cyprien_Zeni est à l'image de son île, La Réunion \n",
      "Il nous entraîne avec son titre \"Ma famille\"...  le choisirez vous pour nous représenter pour cette édition ?\n",
      "\n",
      "#EurovisionFrance #Eurovision2022 \n",
      "---------------\n"
     ]
    },
    {
     "data": {
      "text/plain": [
       "{0: [Cyprien_Zeni, son, Il, son, le]}"
      ]
     },
     "execution_count": 67,
     "metadata": {},
     "output_type": "execute_result"
    }
   ],
   "source": [
    "doc = nlp('''Solaire et rayonnant, @Cyprien_Zeni est à l'image de son île, La Réunion ☀\n",
    "Il nous entraîne avec son titre \"Ma famille\"...  le choisirez vous pour nous représenter pour cette édition ?\n",
    "\n",
    "#EurovisionFrance #Eurovision2022'''.replace(\"@\",\"\").replace(\"#\",\"\"))\n",
    "print(doc, \"\\n---------------\")\n",
    "make_new_chains(create_mentions(doc, nlp))"
   ]
  },
  {
   "cell_type": "code",
   "execution_count": 19,
   "metadata": {},
   "outputs": [
    {
     "name": "stdout",
     "output_type": "stream",
     "text": [
      "Yseult. Aucune modestie. Aucune classe. \n",
      "Je voulais qu’elle représente la France, mais si c’est pour entendre \"I AM not agree\" en direct quand elle aura 4 points no thanks. Mes oreilles d’être humain ET de prof d’anglais saignent. #cvqd #EurovisionFrance \n",
      "---------------\n"
     ]
    },
    {
     "data": {
      "text/plain": [
       "{0: [Yseult, elle, elle]}"
      ]
     },
     "execution_count": 19,
     "metadata": {},
     "output_type": "execute_result"
    }
   ],
   "source": [
    "doc = nlp('''Yseult. Aucune modestie. Aucune classe. \n",
    "Je voulais qu’elle représente la France, mais si c’est pour entendre \"I AM not agree\" en direct quand elle aura 4 points no thanks. Mes oreilles d’être humain ET de prof d’anglais saignent. #cvqd #EurovisionFrance''')\n",
    "print(doc, \"\\n---------------\")\n",
    "make_new_chains(create_mentions(doc, nlp))"
   ]
  },
  {
   "cell_type": "code",
   "execution_count": 59,
   "metadata": {},
   "outputs": [
    {
     "name": "stdout",
     "output_type": "stream",
     "text": [
      "Tadej Pogacar. Cet homme est la future légende du cyclisme moderne, tout simplement. \n",
      "\n",
      "J’ai posé mes couilles avec \n",
      "@GaltierFabien\n",
      " et les bugattis aussi chez \n",
      "@BDPetrelli\n",
      ". \n",
      "\n",
      "Continuer à nous sous-estimer. \n",
      "\n",
      "PS : Demain j’ai rendez-vous avec la gloire  \n",
      "-------------\n"
     ]
    },
    {
     "data": {
      "text/plain": [
       "{0: [Tadej Pogacar, Cet homme, la future légende du cyclisme moderne]}"
      ]
     },
     "execution_count": 59,
     "metadata": {},
     "output_type": "execute_result"
    }
   ],
   "source": [
    "doc = nlp('''Tadej Pogacar. Cet homme est la future légende du cyclisme moderne, tout simplement. \n",
    "\n",
    "J’ai posé mes couilles avec \n",
    "@GaltierFabien\n",
    " et les bugattis aussi chez \n",
    "@BDPetrelli\n",
    ". \n",
    "\n",
    "Continuer à nous sous-estimer. \n",
    "\n",
    "PS : Demain j’ai rendez-vous avec la gloire ''')\n",
    "print(doc, \"\\n-------------\")\n",
    "make_new_chains(create_mentions(doc, nlp))"
   ]
  }
 ],
 "metadata": {
  "interpreter": {
   "hash": "1c8ebe990c9bc2ed00db0b2e84fdaca10c054c4376eb61a040dfa8e56d270b3c"
  },
  "kernelspec": {
   "display_name": "Python 3",
   "language": "python",
   "name": "python3"
  },
  "language_info": {
   "codemirror_mode": {
    "name": "ipython",
    "version": 3
   },
   "file_extension": ".py",
   "mimetype": "text/x-python",
   "name": "python",
   "nbconvert_exporter": "python",
   "pygments_lexer": "ipython3",
   "version": "3.9.7"
  }
 },
 "nbformat": 4,
 "nbformat_minor": 2
}
